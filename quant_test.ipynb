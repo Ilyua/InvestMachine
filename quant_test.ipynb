{
 "cells": [
  {
   "cell_type": "code",
   "execution_count": 1,
   "id": "97fab1ba-313d-4469-ada6-69f0162f3f28",
   "metadata": {},
   "outputs": [
    {
     "data": {
      "application/javascript": [
       "IPython.notebook.set_autosave_interval(60000)"
      ]
     },
     "metadata": {},
     "output_type": "display_data"
    },
    {
     "name": "stdout",
     "output_type": "stream",
     "text": [
      "Autosaving every 60 seconds\n"
     ]
    }
   ],
   "source": [
    "%autosave 60"
   ]
  },
  {
   "cell_type": "code",
   "execution_count": 2,
   "id": "11363bdc-130c-4fac-bfd3-3976e6747ded",
   "metadata": {},
   "outputs": [],
   "source": [
    "\n",
    "import pandas as pd\n",
    "from sklearn.model_selection import TimeSeriesSplit\n",
    "from sklearn.model_selection import cross_validate,train_test_split\n",
    "from sklearn.metrics import mean_absolute_percentage_error\n",
    "import seaborn as sns \n",
    "import numpy as np\n",
    "from matplotlib import rcParams\n",
    "\n",
    "# figure size in inches\n",
    "rcParams['figure.figsize'] = 11.7,8.27\n",
    "import matplotlib.pyplot as plt\n",
    "from sklearn import linear_model\n",
    "import torch\n",
    "from torch.utils.data import Dataset, DataLoader,RandomSampler,SequentialSampler,SubsetRandomSampler\n",
    "\n",
    "import torch.nn as nn\n",
    "from torch.utils.data import random_split\n",
    "import torch.optim as optim\n",
    "from sklearn.preprocessing import MinMaxScaler\n",
    "\n",
    "pd.set_option('display.max_rows', 500)\n",
    "pd.set_option('display.max_columns', 500)\n",
    "pd.set_option('display.width', 1000)"
   ]
  },
  {
   "cell_type": "markdown",
   "id": "d2612961-fb30-4013-aa49-66f886ee8f21",
   "metadata": {},
   "source": [
    "# Задача\n",
    "Предоставляется набор стаканов котировок за 1 час глубиной 10*10 (10 Bid & 10 Ask). Приблизительная частота данных: 10 стаканов в секунду. \n",
    "Имеется 2 вида комиссий: maker - 0.02%, taker - 0.07%.\n",
    "Задача написать алгоритм, который каждую минуту исполняет заявки по рынку на покупку инструмента с заданным объемом.\n",
    "Для объемов заявок *1 000, 10 000, 1 000 000* нужно получить:          \n",
    "- количество купленного инструмента \n",
    "- среднюю цену покупки\n",
    "- cредний slippage по всем сделкам\n",
    "Так же нужно предоставить сделки в формате csv со следующими полями:         \n",
    "id, time (utc timestamp), amount (usd), price, side"
   ]
  },
  {
   "cell_type": "markdown",
   "id": "07342054-9b37-4aa5-83c9-4846cdce8fb8",
   "metadata": {},
   "source": [
    "# Обзор данных"
   ]
  },
  {
   "cell_type": "code",
   "execution_count": 3,
   "id": "8896c6cd-6af2-495d-80ab-8e701a5d6ee2",
   "metadata": {},
   "outputs": [],
   "source": [
    "\n",
    "df = pd.read_csv('./test_quant.csv (4) (1) (1) (1) (1)')"
   ]
  },
  {
   "cell_type": "code",
   "execution_count": 4,
   "id": "d0120f23-a743-411f-9228-8195a0514615",
   "metadata": {},
   "outputs": [
    {
     "data": {
      "text/plain": [
       "(11807, 45)"
      ]
     },
     "execution_count": 4,
     "metadata": {},
     "output_type": "execute_result"
    }
   ],
   "source": [
    "df.shape"
   ]
  },
  {
   "cell_type": "code",
   "execution_count": 5,
   "id": "e15e6d81-c20e-4036-9b57-c40978fd74bc",
   "metadata": {},
   "outputs": [
    {
     "data": {
      "text/html": [
       "<div>\n",
       "<style scoped>\n",
       "    .dataframe tbody tr th:only-of-type {\n",
       "        vertical-align: middle;\n",
       "    }\n",
       "\n",
       "    .dataframe tbody tr th {\n",
       "        vertical-align: top;\n",
       "    }\n",
       "\n",
       "    .dataframe thead th {\n",
       "        text-align: right;\n",
       "    }\n",
       "</style>\n",
       "<table border=\"1\" class=\"dataframe\">\n",
       "  <thead>\n",
       "    <tr style=\"text-align: right;\">\n",
       "      <th></th>\n",
       "      <th>timestamp</th>\n",
       "      <th>exchange</th>\n",
       "      <th>symbol</th>\n",
       "      <th>timestamp.1</th>\n",
       "      <th>local_timestamp</th>\n",
       "      <th>asks[0].price</th>\n",
       "      <th>asks[1].price</th>\n",
       "      <th>asks[2].price</th>\n",
       "      <th>asks[3].price</th>\n",
       "      <th>asks[4].price</th>\n",
       "      <th>asks[5].price</th>\n",
       "      <th>asks[6].price</th>\n",
       "      <th>asks[7].price</th>\n",
       "      <th>asks[8].price</th>\n",
       "      <th>asks[9].price</th>\n",
       "      <th>asks[0].amount</th>\n",
       "      <th>asks[1].amount</th>\n",
       "      <th>asks[2].amount</th>\n",
       "      <th>asks[3].amount</th>\n",
       "      <th>asks[4].amount</th>\n",
       "      <th>asks[5].amount</th>\n",
       "      <th>asks[6].amount</th>\n",
       "      <th>asks[7].amount</th>\n",
       "      <th>asks[8].amount</th>\n",
       "      <th>asks[9].amount</th>\n",
       "      <th>bids[0].price</th>\n",
       "      <th>bids[1].price</th>\n",
       "      <th>bids[2].price</th>\n",
       "      <th>bids[3].price</th>\n",
       "      <th>bids[4].price</th>\n",
       "      <th>bids[5].price</th>\n",
       "      <th>bids[6].price</th>\n",
       "      <th>bids[7].price</th>\n",
       "      <th>bids[8].price</th>\n",
       "      <th>bids[9].price</th>\n",
       "      <th>bids[0].amount</th>\n",
       "      <th>bids[1].amount</th>\n",
       "      <th>bids[2].amount</th>\n",
       "      <th>bids[3].amount</th>\n",
       "      <th>bids[4].amount</th>\n",
       "      <th>bids[5].amount</th>\n",
       "      <th>bids[6].amount</th>\n",
       "      <th>bids[7].amount</th>\n",
       "      <th>bids[8].amount</th>\n",
       "      <th>bids[9].amount</th>\n",
       "    </tr>\n",
       "  </thead>\n",
       "  <tbody>\n",
       "    <tr>\n",
       "      <th>0</th>\n",
       "      <td>2021-04-02 09:00:00.400</td>\n",
       "      <td>deribit</td>\n",
       "      <td>BTC-16APR21</td>\n",
       "      <td>1617354000424000</td>\n",
       "      <td>1617354000430645</td>\n",
       "      <td>60892.5</td>\n",
       "      <td>60893.0</td>\n",
       "      <td>60897.0</td>\n",
       "      <td>60897.5</td>\n",
       "      <td>60904.0</td>\n",
       "      <td>60913.5</td>\n",
       "      <td>60918.5</td>\n",
       "      <td>60938.5</td>\n",
       "      <td>60942.0</td>\n",
       "      <td>60948.5</td>\n",
       "      <td>2000.0</td>\n",
       "      <td>13700.0</td>\n",
       "      <td>4180.0</td>\n",
       "      <td>6000.0</td>\n",
       "      <td>193180.0</td>\n",
       "      <td>100000.0</td>\n",
       "      <td>2540.0</td>\n",
       "      <td>8000.0</td>\n",
       "      <td>1810.0</td>\n",
       "      <td>289770.0</td>\n",
       "      <td>60828.0</td>\n",
       "      <td>60806.5</td>\n",
       "      <td>60785.0</td>\n",
       "      <td>60780.5</td>\n",
       "      <td>60780.0</td>\n",
       "      <td>60761.0</td>\n",
       "      <td>60738.5</td>\n",
       "      <td>60732.0</td>\n",
       "      <td>60725.0</td>\n",
       "      <td>60705.5</td>\n",
       "      <td>213250.0</td>\n",
       "      <td>2820.0</td>\n",
       "      <td>1810.0</td>\n",
       "      <td>2690.0</td>\n",
       "      <td>319870.0</td>\n",
       "      <td>5270.0</td>\n",
       "      <td>2290.0</td>\n",
       "      <td>379100.0</td>\n",
       "      <td>100000.0</td>\n",
       "      <td>1830.0</td>\n",
       "    </tr>\n",
       "    <tr>\n",
       "      <th>1</th>\n",
       "      <td>2021-04-02 09:00:00.500</td>\n",
       "      <td>deribit</td>\n",
       "      <td>BTC-16APR21</td>\n",
       "      <td>1617354000595000</td>\n",
       "      <td>1617354000606282</td>\n",
       "      <td>60892.5</td>\n",
       "      <td>60893.0</td>\n",
       "      <td>60897.5</td>\n",
       "      <td>60904.0</td>\n",
       "      <td>60913.5</td>\n",
       "      <td>60918.5</td>\n",
       "      <td>60938.5</td>\n",
       "      <td>60942.0</td>\n",
       "      <td>60948.5</td>\n",
       "      <td>60953.5</td>\n",
       "      <td>6180.0</td>\n",
       "      <td>13700.0</td>\n",
       "      <td>6000.0</td>\n",
       "      <td>193180.0</td>\n",
       "      <td>100000.0</td>\n",
       "      <td>2540.0</td>\n",
       "      <td>8000.0</td>\n",
       "      <td>1810.0</td>\n",
       "      <td>289770.0</td>\n",
       "      <td>2740.0</td>\n",
       "      <td>60828.0</td>\n",
       "      <td>60806.5</td>\n",
       "      <td>60785.0</td>\n",
       "      <td>60780.5</td>\n",
       "      <td>60780.0</td>\n",
       "      <td>60761.0</td>\n",
       "      <td>60738.5</td>\n",
       "      <td>60732.0</td>\n",
       "      <td>60725.0</td>\n",
       "      <td>60705.5</td>\n",
       "      <td>213250.0</td>\n",
       "      <td>2820.0</td>\n",
       "      <td>1810.0</td>\n",
       "      <td>2690.0</td>\n",
       "      <td>319870.0</td>\n",
       "      <td>5270.0</td>\n",
       "      <td>2290.0</td>\n",
       "      <td>379100.0</td>\n",
       "      <td>100000.0</td>\n",
       "      <td>1830.0</td>\n",
       "    </tr>\n",
       "    <tr>\n",
       "      <th>2</th>\n",
       "      <td>2021-04-02 09:00:00.700</td>\n",
       "      <td>deribit</td>\n",
       "      <td>BTC-16APR21</td>\n",
       "      <td>1617354000788000</td>\n",
       "      <td>1617354000794703</td>\n",
       "      <td>60892.5</td>\n",
       "      <td>60893.0</td>\n",
       "      <td>60897.5</td>\n",
       "      <td>60904.0</td>\n",
       "      <td>60913.5</td>\n",
       "      <td>60918.5</td>\n",
       "      <td>60938.5</td>\n",
       "      <td>60942.0</td>\n",
       "      <td>60948.5</td>\n",
       "      <td>60953.5</td>\n",
       "      <td>2000.0</td>\n",
       "      <td>13700.0</td>\n",
       "      <td>6000.0</td>\n",
       "      <td>193180.0</td>\n",
       "      <td>100000.0</td>\n",
       "      <td>2540.0</td>\n",
       "      <td>8000.0</td>\n",
       "      <td>1810.0</td>\n",
       "      <td>289770.0</td>\n",
       "      <td>2740.0</td>\n",
       "      <td>60828.0</td>\n",
       "      <td>60806.5</td>\n",
       "      <td>60785.0</td>\n",
       "      <td>60780.5</td>\n",
       "      <td>60780.0</td>\n",
       "      <td>60761.0</td>\n",
       "      <td>60738.5</td>\n",
       "      <td>60732.0</td>\n",
       "      <td>60725.0</td>\n",
       "      <td>60705.5</td>\n",
       "      <td>213250.0</td>\n",
       "      <td>2820.0</td>\n",
       "      <td>1810.0</td>\n",
       "      <td>2690.0</td>\n",
       "      <td>319870.0</td>\n",
       "      <td>5270.0</td>\n",
       "      <td>2290.0</td>\n",
       "      <td>379100.0</td>\n",
       "      <td>100000.0</td>\n",
       "      <td>1830.0</td>\n",
       "    </tr>\n",
       "    <tr>\n",
       "      <th>3</th>\n",
       "      <td>2021-04-02 09:00:00.800</td>\n",
       "      <td>deribit</td>\n",
       "      <td>BTC-16APR21</td>\n",
       "      <td>1617354000892000</td>\n",
       "      <td>1617354000905202</td>\n",
       "      <td>60892.5</td>\n",
       "      <td>60893.0</td>\n",
       "      <td>60897.5</td>\n",
       "      <td>60904.0</td>\n",
       "      <td>60913.5</td>\n",
       "      <td>60918.5</td>\n",
       "      <td>60938.5</td>\n",
       "      <td>60942.0</td>\n",
       "      <td>60948.5</td>\n",
       "      <td>60953.5</td>\n",
       "      <td>2000.0</td>\n",
       "      <td>13700.0</td>\n",
       "      <td>6000.0</td>\n",
       "      <td>193180.0</td>\n",
       "      <td>100000.0</td>\n",
       "      <td>2540.0</td>\n",
       "      <td>8000.0</td>\n",
       "      <td>1810.0</td>\n",
       "      <td>289770.0</td>\n",
       "      <td>2740.0</td>\n",
       "      <td>60828.0</td>\n",
       "      <td>60806.5</td>\n",
       "      <td>60785.0</td>\n",
       "      <td>60780.5</td>\n",
       "      <td>60780.0</td>\n",
       "      <td>60761.0</td>\n",
       "      <td>60738.5</td>\n",
       "      <td>60732.0</td>\n",
       "      <td>60725.0</td>\n",
       "      <td>60705.5</td>\n",
       "      <td>213250.0</td>\n",
       "      <td>2820.0</td>\n",
       "      <td>1810.0</td>\n",
       "      <td>2690.0</td>\n",
       "      <td>319870.0</td>\n",
       "      <td>5270.0</td>\n",
       "      <td>2290.0</td>\n",
       "      <td>379100.0</td>\n",
       "      <td>100000.0</td>\n",
       "      <td>1830.0</td>\n",
       "    </tr>\n",
       "    <tr>\n",
       "      <th>4</th>\n",
       "      <td>2021-04-02 09:00:00.900</td>\n",
       "      <td>deribit</td>\n",
       "      <td>BTC-16APR21</td>\n",
       "      <td>1617354000917000</td>\n",
       "      <td>1617354000926413</td>\n",
       "      <td>60892.5</td>\n",
       "      <td>60897.5</td>\n",
       "      <td>60904.0</td>\n",
       "      <td>60913.5</td>\n",
       "      <td>60918.5</td>\n",
       "      <td>60938.5</td>\n",
       "      <td>60942.0</td>\n",
       "      <td>60948.5</td>\n",
       "      <td>60953.5</td>\n",
       "      <td>60993.5</td>\n",
       "      <td>2000.0</td>\n",
       "      <td>6000.0</td>\n",
       "      <td>193180.0</td>\n",
       "      <td>100000.0</td>\n",
       "      <td>2540.0</td>\n",
       "      <td>8000.0</td>\n",
       "      <td>1810.0</td>\n",
       "      <td>289770.0</td>\n",
       "      <td>2740.0</td>\n",
       "      <td>343430.0</td>\n",
       "      <td>60828.0</td>\n",
       "      <td>60806.5</td>\n",
       "      <td>60785.0</td>\n",
       "      <td>60780.5</td>\n",
       "      <td>60780.0</td>\n",
       "      <td>60761.0</td>\n",
       "      <td>60738.5</td>\n",
       "      <td>60732.0</td>\n",
       "      <td>60725.0</td>\n",
       "      <td>60705.5</td>\n",
       "      <td>213250.0</td>\n",
       "      <td>2820.0</td>\n",
       "      <td>1810.0</td>\n",
       "      <td>2690.0</td>\n",
       "      <td>319870.0</td>\n",
       "      <td>5270.0</td>\n",
       "      <td>2290.0</td>\n",
       "      <td>379100.0</td>\n",
       "      <td>100000.0</td>\n",
       "      <td>1830.0</td>\n",
       "    </tr>\n",
       "  </tbody>\n",
       "</table>\n",
       "</div>"
      ],
      "text/plain": [
       "                 timestamp exchange       symbol       timestamp.1   local_timestamp  asks[0].price  asks[1].price  asks[2].price  asks[3].price  asks[4].price  asks[5].price  asks[6].price  asks[7].price  asks[8].price  asks[9].price  asks[0].amount  asks[1].amount  asks[2].amount  asks[3].amount  asks[4].amount  asks[5].amount  asks[6].amount  asks[7].amount  asks[8].amount  asks[9].amount  bids[0].price  bids[1].price  bids[2].price  bids[3].price  bids[4].price  bids[5].price  bids[6].price  bids[7].price  bids[8].price  bids[9].price  bids[0].amount  bids[1].amount  bids[2].amount  bids[3].amount  bids[4].amount  bids[5].amount  bids[6].amount  bids[7].amount  bids[8].amount  bids[9].amount\n",
       "0  2021-04-02 09:00:00.400  deribit  BTC-16APR21  1617354000424000  1617354000430645        60892.5        60893.0        60897.0        60897.5        60904.0        60913.5        60918.5        60938.5        60942.0        60948.5          2000.0         13700.0          4180.0          6000.0        193180.0        100000.0          2540.0          8000.0          1810.0        289770.0        60828.0        60806.5        60785.0        60780.5        60780.0        60761.0        60738.5        60732.0        60725.0        60705.5        213250.0          2820.0          1810.0          2690.0        319870.0          5270.0          2290.0        379100.0        100000.0          1830.0\n",
       "1  2021-04-02 09:00:00.500  deribit  BTC-16APR21  1617354000595000  1617354000606282        60892.5        60893.0        60897.5        60904.0        60913.5        60918.5        60938.5        60942.0        60948.5        60953.5          6180.0         13700.0          6000.0        193180.0        100000.0          2540.0          8000.0          1810.0        289770.0          2740.0        60828.0        60806.5        60785.0        60780.5        60780.0        60761.0        60738.5        60732.0        60725.0        60705.5        213250.0          2820.0          1810.0          2690.0        319870.0          5270.0          2290.0        379100.0        100000.0          1830.0\n",
       "2  2021-04-02 09:00:00.700  deribit  BTC-16APR21  1617354000788000  1617354000794703        60892.5        60893.0        60897.5        60904.0        60913.5        60918.5        60938.5        60942.0        60948.5        60953.5          2000.0         13700.0          6000.0        193180.0        100000.0          2540.0          8000.0          1810.0        289770.0          2740.0        60828.0        60806.5        60785.0        60780.5        60780.0        60761.0        60738.5        60732.0        60725.0        60705.5        213250.0          2820.0          1810.0          2690.0        319870.0          5270.0          2290.0        379100.0        100000.0          1830.0\n",
       "3  2021-04-02 09:00:00.800  deribit  BTC-16APR21  1617354000892000  1617354000905202        60892.5        60893.0        60897.5        60904.0        60913.5        60918.5        60938.5        60942.0        60948.5        60953.5          2000.0         13700.0          6000.0        193180.0        100000.0          2540.0          8000.0          1810.0        289770.0          2740.0        60828.0        60806.5        60785.0        60780.5        60780.0        60761.0        60738.5        60732.0        60725.0        60705.5        213250.0          2820.0          1810.0          2690.0        319870.0          5270.0          2290.0        379100.0        100000.0          1830.0\n",
       "4  2021-04-02 09:00:00.900  deribit  BTC-16APR21  1617354000917000  1617354000926413        60892.5        60897.5        60904.0        60913.5        60918.5        60938.5        60942.0        60948.5        60953.5        60993.5          2000.0          6000.0        193180.0        100000.0          2540.0          8000.0          1810.0        289770.0          2740.0        343430.0        60828.0        60806.5        60785.0        60780.5        60780.0        60761.0        60738.5        60732.0        60725.0        60705.5        213250.0          2820.0          1810.0          2690.0        319870.0          5270.0          2290.0        379100.0        100000.0          1830.0"
      ]
     },
     "execution_count": 5,
     "metadata": {},
     "output_type": "execute_result"
    }
   ],
   "source": [
    "df.head()"
   ]
  },
  {
   "cell_type": "markdown",
   "id": "77fbc557-769a-42eb-b251-be1acbb6ceb0",
   "metadata": {},
   "source": [
    "# Попробуем предсказать мидпрайс регрессией по 10 точкам"
   ]
  },
  {
   "cell_type": "code",
   "execution_count": 6,
   "id": "9c5ad525-be12-458a-960d-11a2a5df3dd3",
   "metadata": {},
   "outputs": [],
   "source": [
    "def price(ask_9,bid_9):\n",
    "    return (ask_9+bid_9)/2"
   ]
  },
  {
   "cell_type": "code",
   "execution_count": 7,
   "id": "71d264e2-5aa6-437c-b217-0091b85ae72e",
   "metadata": {},
   "outputs": [],
   "source": [
    "df['price']  =df[['asks[9].price','bids[9].price']].apply(lambda x: price(x['asks[9].price'], x['bids[9].price']), axis=1)"
   ]
  },
  {
   "cell_type": "code",
   "execution_count": 8,
   "id": "97927bdc-d8ec-47c7-a8be-5cd8705ae078",
   "metadata": {},
   "outputs": [],
   "source": [
    "model=linear_model.Ridge()"
   ]
  },
  {
   "cell_type": "code",
   "execution_count": 9,
   "id": "533d5d0b-0883-4ca3-a08b-695017a310e4",
   "metadata": {},
   "outputs": [],
   "source": [
    "POINT_NUMBER=100"
   ]
  },
  {
   "cell_type": "code",
   "execution_count": 10,
   "id": "73b0d645-a0d9-4392-8782-26c86b08fe56",
   "metadata": {},
   "outputs": [],
   "source": [
    "tscv = TimeSeriesSplit(n_splits=5000, test_size=1,max_train_size=POINT_NUMBER)"
   ]
  },
  {
   "cell_type": "markdown",
   "id": "b1d60444-0667-46fa-ac8b-da404185bd61",
   "metadata": {},
   "source": [
    "## Подготовка обучающей выборки для регрессии"
   ]
  },
  {
   "cell_type": "code",
   "execution_count": 11,
   "id": "d90c8b31-b3e0-40b4-9875-7142b2d06450",
   "metadata": {
    "tags": []
   },
   "outputs": [],
   "source": [
    "X=[]\n",
    "y=[]\n",
    "for train_index, test_index in tscv.split(df['price']):\n",
    "    \n",
    "    points,label = df['price'][train_index].values, df['price'][test_index].values\n",
    "    \n",
    "    if len(points)<POINT_NUMBER:\n",
    "        continue\n",
    "    else:\n",
    "        X.append(list(points))\n",
    "        y.append([label[0]])\n",
    "X=np.array(X)\n",
    "y=np.array(y)\n",
    "\n",
    "y=y.ravel()"
   ]
  },
  {
   "cell_type": "code",
   "execution_count": 12,
   "id": "3f367442-de48-4de1-9294-8063ea5e77fd",
   "metadata": {},
   "outputs": [
    {
     "data": {
      "text/plain": [
       "array([60645.  , 60645.  , 60645.  , 60645.  , 60564.25, 60564.25,\n",
       "       60661.5 , 60662.75, 60662.75, 60664.25, 60634.75, 60634.75,\n",
       "       60636.  , 60676.  , 60668.75, 60668.75, 60668.75, 60657.75,\n",
       "       60657.75, 60657.75, 60657.75, 60657.75, 60657.75, 60657.75,\n",
       "       60657.75, 60657.75, 60657.75, 60657.75, 60658.  , 60645.25,\n",
       "       60658.  , 60657.75, 60668.75, 60669.  , 60669.  , 60673.25,\n",
       "       60673.25, 60669.  , 60673.25, 60669.  , 60668.75, 60669.  ,\n",
       "       60675.5 , 60675.5 , 60673.  , 60675.5 , 60676.5 , 60676.5 ,\n",
       "       60672.25, 60676.5 , 60672.5 , 60672.5 , 60661.5 , 60672.5 ,\n",
       "       60672.5 , 60661.5 , 60672.5 , 60676.75, 60677.  , 60672.75,\n",
       "       60672.75, 60672.75, 60672.75, 60677.  , 60685.5 , 60685.5 ,\n",
       "       60672.75, 60685.5 , 60672.75, 60672.75, 60673.  , 60673.  ,\n",
       "       60685.75, 60687.  , 60698.5 , 60698.5 , 60819.75, 60820.  ,\n",
       "       60819.75, 60817.75, 60686.75, 60687.  , 60686.75, 60687.  ,\n",
       "       60687.  , 60686.75, 60686.75, 60687.  , 60686.75, 60686.75,\n",
       "       60649.5 , 60702.5 , 60702.5 , 60819.75, 60819.75, 60819.75,\n",
       "       60811.5 , 60819.75, 60820.  , 60820.  ])"
      ]
     },
     "execution_count": 12,
     "metadata": {},
     "output_type": "execute_result"
    }
   ],
   "source": [
    "X[0]"
   ]
  },
  {
   "cell_type": "code",
   "execution_count": 13,
   "id": "f71bc447-14df-4818-be28-c2739930a8ae",
   "metadata": {},
   "outputs": [],
   "source": [
    "train_ratio = 0.75\n",
    "validation_ratio = 0.15\n",
    "test_ratio = 0.10\n",
    "l=X.shape[0]\n",
    "train_end=int(train_ratio*l)\n",
    "test_end=int(train_ratio*l+test_ratio*l)\n",
    "\n",
    "X_train,y_train=X[0:train_end],y[0:train_end]\n",
    "\n",
    "X_test,y_test=X[train_end:test_end],y[train_end:test_end]\n",
    "X_val,y_val=X[test_end:],y[test_end:]\n"
   ]
  },
  {
   "cell_type": "code",
   "execution_count": 14,
   "id": "aa4676d7-a7de-4f5c-9870-c78dcc1885cf",
   "metadata": {},
   "outputs": [
    {
     "data": {
      "text/plain": [
       "Ridge()"
      ]
     },
     "execution_count": 14,
     "metadata": {},
     "output_type": "execute_result"
    }
   ],
   "source": [
    "model.fit(X_train,y_train)\n"
   ]
  },
  {
   "cell_type": "markdown",
   "id": "7db91e8a-4fc6-4b9d-a969-1c9dc206b713",
   "metadata": {},
   "source": [
    "## Validation"
   ]
  },
  {
   "cell_type": "markdown",
   "id": "a99e5ec0-03a4-496b-8099-9a9f6d2b8dcd",
   "metadata": {},
   "source": [
    "# Сравним предсказания модели со случайным блужданием"
   ]
  },
  {
   "cell_type": "code",
   "execution_count": 15,
   "id": "02c4e795-93a1-42b0-b2e2-4373baf0e067",
   "metadata": {},
   "outputs": [],
   "source": [
    "def get_martingal_predictions_from_prices(prices,n_points=3):\n",
    "    predictions = [prices[i] for i in range(n_points,len(prices),n_points+1)]\n",
    "    return predictions\n",
    "def get_martingal_predictions_from_sequences(prices):\n",
    "    predictions = [p[-1] for p in prices]\n",
    "    return predictions"
   ]
  },
  {
   "cell_type": "code",
   "execution_count": 16,
   "id": "cf6034e9-a796-4bd8-8198-a2ecd68e18e5",
   "metadata": {},
   "outputs": [],
   "source": [
    "results=model.predict(X_test)"
   ]
  },
  {
   "cell_type": "code",
   "execution_count": 17,
   "id": "4a256e9b-676b-4513-9983-1d02daca668f",
   "metadata": {},
   "outputs": [
    {
     "data": {
      "text/plain": [
       "<AxesSubplot:>"
      ]
     },
     "execution_count": 17,
     "metadata": {},
     "output_type": "execute_result"
    },
    {
     "data": {
      "image/png": "[encoded data removed]",
      "text/plain": [
       "<Figure size 842.4x595.44 with 1 Axes>"
      ]
     },
     "metadata": {
      "needs_background": "light"
     },
     "output_type": "display_data"
    }
   ],
   "source": [
    "sns.lineplot(x=list(range(len(y_test))), y=y_test.flatten(),label='groud truth')\n",
    "sns.lineplot(x=list(range(len(y_test))), y=results.flatten(),label='model_prediction')\n",
    "sns.lineplot(x=list(range(len(y_test))), y=get_martingal_predictions_from_sequences(X_test),label='Random Walk')"
   ]
  },
  {
   "cell_type": "code",
   "execution_count": 18,
   "id": "2b00683d-cbcb-4895-b996-7baa44eefddf",
   "metadata": {},
   "outputs": [
    {
     "name": "stdout",
     "output_type": "stream",
     "text": [
      "Model MAPE: 0.0001312199\n",
      "Random Walk MAPE: 0.0000935734\n"
     ]
    }
   ],
   "source": [
    "print('Model MAPE:','{0:.10f}'.format(mean_absolute_percentage_error(y_test,results)))\n",
    "print('Random Walk MAPE:','{0:.10f}'.format(mean_absolute_percentage_error(y_test,get_martingal_predictions_from_sequences(X_test))))\n"
   ]
  },
  {
   "cell_type": "markdown",
   "id": "b27c1ac7-174c-43ec-942e-9d7026e37350",
   "metadata": {},
   "source": [
    "# Вывод\n",
    "Предсказания регрессии по n предыдущих точек не превосходят в точности случайное блуждание (мартингал)"
   ]
  },
  {
   "cell_type": "markdown",
   "id": "8e375339-2bdc-45dd-8bc0-a0cb8c7b0b9f",
   "metadata": {},
   "source": [
    "# Возьмем рекуррентную модель для предсказания цены"
   ]
  },
  {
   "cell_type": "code",
   "execution_count": 19,
   "id": "318627a1-9cc7-46be-8da3-335cbcafd5d6",
   "metadata": {
    "tags": []
   },
   "outputs": [],
   "source": [
    "class PriceDataset(Dataset):\n",
    "    \"\"\"Face Landmarks dataset.\"\"\"\n",
    "\n",
    "    def __init__(self, data,n_train_points=10):\n",
    "        self.data=data\n",
    "        self.n_train_points=n_train_points\n",
    "\n",
    "    def __len__(self):\n",
    "        return len(self.data)\n",
    "\n",
    "    def __getitem__(self, idx):\n",
    "        \n",
    "        X=self.data[idx:idx+self.n_train_points]\n",
    "        y=self.data[idx+self.n_train_points]\n",
    "        return (X,y)"
   ]
  },
  {
   "cell_type": "code",
   "execution_count": 20,
   "id": "05527ea1-789d-4e16-864e-d890f5eafc69",
   "metadata": {},
   "outputs": [],
   "source": [
    "price=df['price']/10000#.shift(-1)-df['price']"
   ]
  },
  {
   "cell_type": "code",
   "execution_count": 21,
   "id": "06057501-266c-4889-8312-49fa7c3cb1fe",
   "metadata": {},
   "outputs": [
    {
     "data": {
      "text/plain": [
       "0        6.082700\n",
       "1        6.082950\n",
       "2        6.082950\n",
       "3        6.082950\n",
       "4        6.084950\n",
       "           ...   \n",
       "11802    6.096800\n",
       "11803    6.094975\n",
       "11804    6.096800\n",
       "11805    6.096800\n",
       "11806    6.094975\n",
       "Name: price, Length: 11807, dtype: float64"
      ]
     },
     "execution_count": 21,
     "metadata": {},
     "output_type": "execute_result"
    }
   ],
   "source": [
    "price"
   ]
  },
  {
   "cell_type": "code",
   "execution_count": 22,
   "id": "ec7bb5c6-84e8-4378-a5b1-7c0bfac4094b",
   "metadata": {},
   "outputs": [],
   "source": [
    "train_data,test_data=train_test_split(price.values.astype(np.float32),shuffle=False,test_size=0.33)"
   ]
  },
  {
   "cell_type": "code",
   "execution_count": 23,
   "id": "fdd49c85-17f7-45d0-9419-f96d77efbb09",
   "metadata": {},
   "outputs": [],
   "source": [
    "# scaler=MinMaxScaler()"
   ]
  },
  {
   "cell_type": "code",
   "execution_count": 24,
   "id": "4712c79f-f291-4f3b-a6e2-593513613da5",
   "metadata": {},
   "outputs": [],
   "source": [
    "# train_data=scaler.fit_transform(train_data.reshape(-1,1)).flatten()\n",
    "# test_data=scaler.transform(test_data.reshape(-1,1)).flatten()\n",
    "\n",
    "train_dataset=PriceDataset(train_data)\n",
    "test_dataset=PriceDataset(test_data)"
   ]
  },
  {
   "cell_type": "code",
   "execution_count": 25,
   "id": "fe58cba8-1fcd-471a-9812-10e66e3373a2",
   "metadata": {},
   "outputs": [],
   "source": [
    "random_sampler=RandomSampler(range(len(train_dataset)-train_dataset.n_train_points),replacement=True)\n",
    "seq_sampler=SequentialSampler(range(len(test_dataset)-test_dataset.n_train_points))\n",
    "\n",
    "train_dataloader=DataLoader(train_dataset,sampler=random_sampler,batch_size=100)\n",
    "test_dataloader=DataLoader(test_dataset,sampler=seq_sampler,batch_size=100)\n"
   ]
  },
  {
   "cell_type": "code",
   "execution_count": 26,
   "id": "bfc685b7-05a1-423d-8f84-a3ab0e8b5356",
   "metadata": {},
   "outputs": [],
   "source": [
    "class PriceLSTM(nn.Module):\n",
    "\n",
    "    def __init__(self, hidden_dim,regressor_size, input_size=1 ):\n",
    "        super(PriceLSTM, self).__init__()\n",
    "        self.hidden_dim = hidden_dim\n",
    "        self.regressor_size=regressor_size\n",
    "        self.input_size=input_size\n",
    "\n",
    "        \n",
    "        # The LSTM takes word embeddings as inputs, and outputs hidden states\n",
    "        # with dimensionality hidden_dim.\n",
    "        self.lstm = nn.LSTM(input_size, hidden_dim,batch_first=True)\n",
    "\n",
    "        # The linear layer that maps from hidden state space to tag space\n",
    "        self.regressor_1 = nn.Linear(hidden_dim, self.regressor_size)\n",
    "        self.regressor_2=nn.Linear(self.regressor_size,1)\n",
    "\n",
    "    def forward(self, x):\n",
    "        x=x.unsqueeze(dim=2)\n",
    "#         x=x.permute(1,0,2)\n",
    "        _, (out,_) = self.lstm(x)\n",
    "        out=self.regressor_1(out)\n",
    "        out=self.regressor_2(out)\n",
    "        return out"
   ]
  },
  {
   "cell_type": "code",
   "execution_count": 27,
   "id": "be9cfd2b-b0ea-40ca-82a7-5d7dd2438df8",
   "metadata": {},
   "outputs": [],
   "source": [
    "for x,y in train_dataloader:\n",
    "    break"
   ]
  },
  {
   "cell_type": "code",
   "execution_count": null,
   "id": "b2389cce-0f44-400a-a5d9-3cb625f11a8f",
   "metadata": {},
   "outputs": [],
   "source": []
  },
  {
   "cell_type": "code",
   "execution_count": 28,
   "id": "6538e457-e063-4f2f-a883-88af48827477",
   "metadata": {},
   "outputs": [],
   "source": [
    "model=PriceLSTM(4,4)"
   ]
  },
  {
   "cell_type": "code",
   "execution_count": 29,
   "id": "4b772d2d-7828-4bf1-a239-78355e58d0bd",
   "metadata": {},
   "outputs": [],
   "source": [
    "\n",
    "\n",
    "criterion = nn.L1Loss(reduction='mean')\n",
    "optimizer = optim.Adam(model.parameters(), lr=0.0001)\n"
   ]
  },
  {
   "cell_type": "code",
   "execution_count": null,
   "id": "33c17ac8-8f19-4b31-8475-e9528dad559d",
   "metadata": {},
   "outputs": [],
   "source": []
  },
  {
   "cell_type": "code",
   "execution_count": 30,
   "id": "5619de50-d96f-458b-83a0-ebfe8a08ec8e",
   "metadata": {
    "tags": []
   },
   "outputs": [
    {
     "name": "stdout",
     "output_type": "stream",
     "text": [
      "(0) train loss: 556.112926 val loss:274.094003\n",
      "(1) train loss: 551.556238 val loss:271.818676\n",
      "(2) train loss: 546.850982 val loss:269.452669\n",
      "(3) train loss: 541.909339 val loss:266.934084\n",
      "(4) train loss: 536.623501 val loss:264.19591\n",
      "(5) train loss: 530.789654 val loss:261.186545\n",
      "(6) train loss: 524.408297 val loss:257.893059\n",
      "(7) train loss: 517.4842 val loss:254.355113\n",
      "(8) train loss: 510.128237 val loss:250.633256\n",
      "(9) train loss: 502.413372 val loss:246.737635\n",
      "(10) train loss: 494.299342 val loss:242.583574\n",
      "(11) train loss: 485.488661 val loss:238.023081\n",
      "(12) train loss: 475.765357 val loss:232.970315\n",
      "(13) train loss: 465.11551 val loss:227.568499\n",
      "(14) train loss: 454.102464 val loss:222.141136\n",
      "(15) train loss: 443.289328 val loss:216.900563\n",
      "(16) train loss: 432.882335 val loss:211.849302\n",
      "(17) train loss: 422.77078 val loss:206.898031\n",
      "(18) train loss: 412.764619 val loss:201.963618\n",
      "(19) train loss: 402.752696 val loss:197.003598\n",
      "(20) train loss: 392.657529 val loss:192.011708\n",
      "(21) train loss: 382.53179 val loss:186.991273\n",
      "(22) train loss: 372.326094 val loss:181.92868\n",
      "(23) train loss: 361.99931 val loss:176.780842\n",
      "(24) train loss: 351.441898 val loss:171.476523\n",
      "(25) train loss: 340.476449 val loss:165.927033\n",
      "(26) train loss: 328.91793 val loss:160.043785\n",
      "(27) train loss: 316.612007 val loss:153.757347\n",
      "(28) train loss: 303.443002 val loss:147.028561\n",
      "(29) train loss: 289.367803 val loss:139.849049\n",
      "(30) train loss: 274.384759 val loss:132.238917\n",
      "(31) train loss: 258.58596 val loss:124.247398\n",
      "(32) train loss: 242.080967 val loss:115.95221\n",
      "(33) train loss: 225.053529 val loss:107.450135\n",
      "(34) train loss: 207.712927 val loss:98.837951\n",
      "(35) train loss: 190.227804 val loss:90.191987\n",
      "(36) train loss: 172.725583 val loss:81.55602\n",
      "(37) train loss: 155.259304 val loss:72.942549\n",
      "(38) train loss: 137.816976 val loss:64.342909\n",
      "(39) train loss: 120.401102 val loss:55.739019\n",
      "(40) train loss: 102.936276 val loss:47.111285\n",
      "(41) train loss: 85.422478 val loss:38.442406\n",
      "(42) train loss: 67.814414 val loss:29.718345\n",
      "(43) train loss: 50.084832 val loss:20.928338\n",
      "(44) train loss: 32.200028 val loss:12.064181\n",
      "(45) train loss: 14.159716 val loss:3.119642\n",
      "(46) train loss: 1.142274 val loss:0.713592\n",
      "(47) train loss: 0.528476 val loss:0.698045\n",
      "(48) train loss: 0.533984 val loss:0.692685\n",
      "(49) train loss: 0.542234 val loss:0.696406\n",
      "(50) train loss: 0.529204 val loss:0.710078\n",
      "(51) train loss: 0.546418 val loss:0.70355\n",
      "(52) train loss: 0.530354 val loss:0.723009\n",
      "(53) train loss: 0.532883 val loss:0.660435\n",
      "(54) train loss: 0.539543 val loss:0.664525\n",
      "(55) train loss: 0.531142 val loss:0.718993\n",
      "(56) train loss: 0.541929 val loss:0.733351\n",
      "(57) train loss: 0.537063 val loss:0.721637\n",
      "(58) train loss: 0.534523 val loss:0.707292\n",
      "(59) train loss: 0.540766 val loss:0.729388\n",
      "Finished Training\n"
     ]
    }
   ],
   "source": [
    "tr_loss=[]\n",
    "v_loss=[]\n",
    "for epoch in range(60):  # loop over the dataset multiple times\n",
    "\n",
    "    running_loss = 0.0\n",
    "    model.train()\n",
    "    for i ,data in enumerate(train_dataloader):\n",
    "        \n",
    "        inputs, labels = data\n",
    "\n",
    "        # zero the parameter gradients\n",
    "        optimizer.zero_grad()\n",
    "\n",
    "        # forward + backward + optimize\n",
    "        outputs = model(inputs)\n",
    "        outputs=outputs.flatten()\n",
    "        loss = criterion(outputs, labels)\n",
    "        loss.backward()\n",
    "        optimizer.step()\n",
    "\n",
    "        # print statistics\n",
    "        running_loss += loss.item()\n",
    "#         if i % 2000 == 1999:    # print every 2000 mini-batches\n",
    "#             print(outputs,labels)\n",
    "    tr_loss.append(running_loss)\n",
    "    \n",
    "    \n",
    "    \n",
    "    valid_loss = []\n",
    "    curr_loss=0\n",
    "    model.eval()     # Optional when not using Model Specif\n",
    "    answers=[]\n",
    "    for data, labels in test_dataloader:\n",
    "#         print(labels)\n",
    "#         data, labels = data.cuda(), labels.cuda()\n",
    "        \n",
    "        target = model(data)\n",
    "        target=target.flatten()\n",
    "#         print(target.detach().numpy())\n",
    "        answers.extend(list(target.detach().numpy()))\n",
    "        loss = criterion(target,labels)\n",
    "        curr_loss+=loss.item()\n",
    "    v_loss.append(curr_loss) \n",
    "    \n",
    "    print(f'({epoch}) train loss: {round(running_loss,6)} val loss:{round(curr_loss,6)}')\n",
    "    \n",
    "    \n",
    "#             running_loss = 0.0\n",
    "\n",
    "print('Finished Training')"
   ]
  },
  {
   "cell_type": "code",
   "execution_count": 31,
   "id": "4248e186-a250-4647-a101-6eb795667fb8",
   "metadata": {},
   "outputs": [
    {
     "data": {
      "text/plain": [
       "[<matplotlib.lines.Line2D at 0x7ffa15119cd0>]"
      ]
     },
     "execution_count": 31,
     "metadata": {},
     "output_type": "execute_result"
    },
    {
     "data": {
      "image/png": "[encoded data removed]",
      "text/plain": [
       "<Figure size 842.4x595.44 with 1 Axes>"
      ]
     },
     "metadata": {
      "needs_background": "light"
     },
     "output_type": "display_data"
    }
   ],
   "source": [
    "plt.plot(tr_loss)\n",
    "plt.plot(v_loss)"
   ]
  },
  {
   "cell_type": "code",
   "execution_count": 32,
   "id": "50678215-60cd-4f78-8890-a466517f8148",
   "metadata": {},
   "outputs": [],
   "source": [
    "def get_martingal_predictions_from_prices(prices,n_points=10):\n",
    "    predictions = [prices[i+n_points] for i in range(len(prices)-n_points)]\n",
    "    return predictions"
   ]
  },
  {
   "cell_type": "code",
   "execution_count": 33,
   "id": "1a21da01-2b11-4da2-985b-92680070739e",
   "metadata": {},
   "outputs": [],
   "source": [
    "test_dataloader=DataLoader(test_dataset,sampler=seq_sampler,batch_size=1)"
   ]
  },
  {
   "cell_type": "code",
   "execution_count": 34,
   "id": "eb0ba049-6d31-45ac-b2c1-855951339a73",
   "metadata": {},
   "outputs": [],
   "source": [
    "y_test=[]\n",
    "for x,y, in test_dataloader:\n",
    "    \n",
    "    y_test.append(y.numpy()[0]*10000)"
   ]
  },
  {
   "cell_type": "code",
   "execution_count": 35,
   "id": "904ceb1e-ae42-4c12-9f1e-4c25920dc0c8",
   "metadata": {},
   "outputs": [],
   "source": [
    "martingal_data=get_martingal_predictions_from_prices(test_data*10000)"
   ]
  },
  {
   "cell_type": "code",
   "execution_count": 36,
   "id": "f51a3920-735a-45d0-8c42-1b1ea4205ece",
   "metadata": {},
   "outputs": [],
   "source": [
    "answers = list(map(lambda x:x*10000,answers))"
   ]
  },
  {
   "cell_type": "code",
   "execution_count": 37,
   "id": "db37c9d1-d856-4a04-9a54-7502a304327a",
   "metadata": {},
   "outputs": [
    {
     "name": "stdout",
     "output_type": "stream",
     "text": [
      "Model MAPE: 0.0030671678\n",
      "Random Walk MAPE: 0.0000000185\n"
     ]
    }
   ],
   "source": [
    "print('Model MAPE:','{0:.10f}'.format(mean_absolute_percentage_error(y_test,answers)))\n",
    "print('Random Walk MAPE:','{0:.10f}'.format(mean_absolute_percentage_error(y_test,martingal_data)))\n"
   ]
  },
  {
   "cell_type": "markdown",
   "id": "acefe83d-dd59-4a11-ae7b-4c794742f68e",
   "metadata": {},
   "source": [
    "### Предсказание цены не дало улучшений. Попробуем предсказать спред ввиду его потенциально стационарности"
   ]
  },
  {
   "cell_type": "code",
   "execution_count": 38,
   "id": "b8c26301-10f8-4c07-b18c-fdc37120010b",
   "metadata": {},
   "outputs": [],
   "source": [
    "df['spread']  =(df['asks[9].price']-df['bids[9].price']).apply(lambda x: abs(x))"
   ]
  },
  {
   "cell_type": "code",
   "execution_count": 39,
   "id": "3af16e29-ca39-4a75-bd94-86cf85487987",
   "metadata": {
    "tags": []
   },
   "outputs": [],
   "source": [
    "class PriceDataset(Dataset):\n",
    "    \"\"\"Face Landmarks dataset.\"\"\"\n",
    "\n",
    "    def __init__(self, data,n_train_points=10):\n",
    "        self.data=data\n",
    "        self.n_train_points=n_train_points\n",
    "\n",
    "    def __len__(self):\n",
    "        return len(self.data)\n",
    "\n",
    "    def __getitem__(self, idx):\n",
    "        \n",
    "        X=self.data[idx:idx+self.n_train_points]\n",
    "        y=self.data[idx+self.n_train_points]\n",
    "        return (X,y)"
   ]
  },
  {
   "cell_type": "code",
   "execution_count": 40,
   "id": "fa9ec9e2-6337-4438-9887-50188f57678f",
   "metadata": {},
   "outputs": [],
   "source": [
    "price=df['spread']#.shift(-1)-df['price']"
   ]
  },
  {
   "cell_type": "code",
   "execution_count": 41,
   "id": "e2c51346-580d-489a-8f03-f9d20a6a4d30",
   "metadata": {},
   "outputs": [],
   "source": [
    "train_data,test_data=train_test_split(price.values.astype(np.float32),shuffle=False,test_size=0.33)"
   ]
  },
  {
   "cell_type": "code",
   "execution_count": 42,
   "id": "360b36e9-2b59-448e-be15-5de2523f88ec",
   "metadata": {},
   "outputs": [],
   "source": [
    "\n",
    "\n",
    "train_dataset=PriceDataset(train_data)\n",
    "test_dataset=PriceDataset(test_data)"
   ]
  },
  {
   "cell_type": "code",
   "execution_count": 43,
   "id": "b50065ca-90fa-4dc8-a051-53419a9c5889",
   "metadata": {},
   "outputs": [
    {
     "data": {
      "text/plain": [
       "array([243. , 248. , 248. , ..., 441.5, 441. , 441.5], dtype=float32)"
      ]
     },
     "execution_count": 43,
     "metadata": {},
     "output_type": "execute_result"
    }
   ],
   "source": [
    "train_data"
   ]
  },
  {
   "cell_type": "code",
   "execution_count": 44,
   "id": "c83e0b17-9e6c-475e-9a55-0ae8e6cf20dd",
   "metadata": {},
   "outputs": [],
   "source": [
    "random_sampler=RandomSampler(range(len(train_dataset)-train_dataset.n_train_points),replacement=True)\n",
    "seq_sampler=SequentialSampler(range(len(test_dataset)-test_dataset.n_train_points))\n",
    "\n",
    "train_dataloader=DataLoader(train_dataset,sampler=random_sampler,batch_size=100)\n",
    "test_dataloader=DataLoader(test_dataset,sampler=seq_sampler,batch_size=100)\n"
   ]
  },
  {
   "cell_type": "code",
   "execution_count": 45,
   "id": "f2f5eb49-dd91-4f60-84f5-bf728cee7eb3",
   "metadata": {},
   "outputs": [],
   "source": [
    "class PriceLSTM(nn.Module):\n",
    "\n",
    "    def __init__(self, hidden_dim,regressor_size, input_size=1 ):\n",
    "        super(PriceLSTM, self).__init__()\n",
    "        self.hidden_dim = hidden_dim\n",
    "        self.regressor_size=regressor_size\n",
    "        self.input_size=input_size\n",
    "\n",
    "        \n",
    "        # The LSTM takes word embeddings as inputs, and outputs hidden states\n",
    "        # with dimensionality hidden_dim.\n",
    "        self.lstm = nn.LSTM(input_size, hidden_dim,batch_first=True,num_layers=1)\n",
    "\n",
    "        # The linear layer that maps from hidden state space to tag space\n",
    "        self.regressor_1 = nn.Linear(hidden_dim, self.regressor_size)\n",
    "        self.regressor_2=nn.Linear(self.regressor_size,1)\n",
    "\n",
    "    def forward(self, x):\n",
    "        x=x.unsqueeze(dim=2)\n",
    "#         x=x.permute(1,0,2)\n",
    "        _, (out,_) = self.lstm(x)\n",
    "#         print(out.shape)\n",
    "        out=out[-1,:,:]\n",
    "#         print(out.shape)\n",
    "        out=self.regressor_1(out)\n",
    "        out=self.regressor_2(out)\n",
    "        return out"
   ]
  },
  {
   "cell_type": "code",
   "execution_count": 46,
   "id": "0acde178-73a8-4cf0-943b-dec09449ade5",
   "metadata": {},
   "outputs": [],
   "source": [
    "for x,y in train_dataloader:\n",
    "    break"
   ]
  },
  {
   "cell_type": "code",
   "execution_count": null,
   "id": "1c416c72-2995-4322-bc17-1dbbe167249d",
   "metadata": {},
   "outputs": [],
   "source": []
  },
  {
   "cell_type": "code",
   "execution_count": 47,
   "id": "8bbcba9d-35b5-4ad8-b9b9-5a72869019a2",
   "metadata": {},
   "outputs": [],
   "source": [
    "model=PriceLSTM(4,4)"
   ]
  },
  {
   "cell_type": "code",
   "execution_count": 48,
   "id": "c80e749e-d7fa-44b1-8269-635b1f979244",
   "metadata": {},
   "outputs": [],
   "source": [
    "def MAPELoss(output, target):\n",
    "    return torch.mean(torch.abs((target - output) / target))"
   ]
  },
  {
   "cell_type": "code",
   "execution_count": 49,
   "id": "b8bbe0a1-9d2a-498a-a0ea-77d0763463b7",
   "metadata": {},
   "outputs": [],
   "source": [
    "\n",
    "\n",
    "criterion = MAPELoss#nn.L1Loss(reduction='mean')\n",
    "optimizer = optim.RMSprop(model.parameters(), lr=0.01)\n"
   ]
  },
  {
   "cell_type": "code",
   "execution_count": 50,
   "id": "e7f65678-53c8-4a20-872f-38dabfb46be7",
   "metadata": {
    "tags": []
   },
   "outputs": [
    {
     "name": "stdout",
     "output_type": "stream",
     "text": [
      "(0) train loss: 74.295486 val loss:33.053732\n",
      "(1) train loss: 62.712712 val loss:25.648969\n",
      "(2) train loss: 49.157102 val loss:17.050054\n",
      "(3) train loss: 33.416092 val loss:10.494035\n",
      "(4) train loss: 24.177117 val loss:10.609502\n",
      "(5) train loss: 22.087859 val loss:10.905892\n",
      "(6) train loss: 21.908462 val loss:11.162436\n",
      "(7) train loss: 21.867016 val loss:11.243395\n",
      "(8) train loss: 21.56832 val loss:11.442101\n",
      "(9) train loss: 21.763922 val loss:11.788223\n",
      "(10) train loss: 21.645785 val loss:11.518113\n",
      "(11) train loss: 21.665043 val loss:12.084398\n",
      "(12) train loss: 21.80832 val loss:11.676331\n",
      "(13) train loss: 21.72597 val loss:11.559728\n",
      "(14) train loss: 21.760445 val loss:11.700485\n",
      "(15) train loss: 21.628464 val loss:11.616356\n",
      "(16) train loss: 21.636302 val loss:11.633442\n",
      "(17) train loss: 21.82256 val loss:11.864258\n",
      "(18) train loss: 21.5716 val loss:11.637737\n",
      "(19) train loss: 21.777866 val loss:11.590313\n",
      "(20) train loss: 21.879551 val loss:11.806809\n",
      "(21) train loss: 21.71556 val loss:11.586339\n",
      "(22) train loss: 21.691215 val loss:11.518476\n",
      "(23) train loss: 21.657786 val loss:11.64384\n",
      "(24) train loss: 21.858235 val loss:11.580039\n",
      "(25) train loss: 21.703372 val loss:11.656655\n",
      "(26) train loss: 21.703907 val loss:11.62187\n",
      "(27) train loss: 21.683021 val loss:11.907959\n",
      "(28) train loss: 21.666706 val loss:11.932601\n",
      "(29) train loss: 21.76423 val loss:11.779484\n",
      "(30) train loss: 21.663947 val loss:11.725618\n",
      "(31) train loss: 21.681205 val loss:12.158224\n",
      "(32) train loss: 21.736934 val loss:11.672697\n",
      "(33) train loss: 21.734054 val loss:11.964938\n",
      "(34) train loss: 21.824206 val loss:11.70811\n",
      "(35) train loss: 21.621961 val loss:11.587961\n",
      "(36) train loss: 21.58679 val loss:11.69304\n",
      "(37) train loss: 21.684506 val loss:11.603271\n",
      "(38) train loss: 21.696642 val loss:11.836887\n",
      "(39) train loss: 21.847431 val loss:11.952724\n",
      "(40) train loss: 21.7654 val loss:11.716004\n",
      "(41) train loss: 21.78127 val loss:11.675015\n",
      "(42) train loss: 21.733151 val loss:11.778101\n",
      "(43) train loss: 21.638918 val loss:11.973743\n",
      "(44) train loss: 21.733071 val loss:11.741741\n",
      "(45) train loss: 21.840775 val loss:11.828338\n",
      "(46) train loss: 21.794923 val loss:12.019356\n",
      "(47) train loss: 21.758145 val loss:12.189931\n",
      "(48) train loss: 21.782011 val loss:11.924389\n",
      "(49) train loss: 21.794356 val loss:11.761156\n",
      "(50) train loss: 21.845041 val loss:11.718308\n",
      "(51) train loss: 21.741073 val loss:11.782143\n",
      "(52) train loss: 21.739659 val loss:12.083174\n",
      "(53) train loss: 21.709481 val loss:11.993204\n",
      "(54) train loss: 21.745797 val loss:11.680302\n",
      "(55) train loss: 21.754813 val loss:11.694262\n",
      "(56) train loss: 21.8378 val loss:11.803185\n",
      "(57) train loss: 21.812614 val loss:11.850602\n",
      "(58) train loss: 21.872182 val loss:11.879055\n",
      "(59) train loss: 21.697966 val loss:11.969437\n",
      "Finished Training\n"
     ]
    }
   ],
   "source": [
    "tr_loss=[]\n",
    "v_loss=[]\n",
    "for epoch in range(60):  # loop over the dataset multiple times\n",
    "\n",
    "    running_loss = 0.0\n",
    "    model.train()\n",
    "    for i ,data in enumerate(train_dataloader):\n",
    "        \n",
    "        inputs, labels = data\n",
    "\n",
    "        # zero the parameter gradients\n",
    "        optimizer.zero_grad()\n",
    "\n",
    "        # forward + backward + optimize\n",
    "        outputs = model(inputs)\n",
    "        outputs=outputs.flatten()\n",
    "        loss = criterion(outputs, labels)\n",
    "        loss.backward()\n",
    "        optimizer.step()\n",
    "\n",
    "        # print statistics\n",
    "        running_loss += loss.item()\n",
    "#         if i % 2000 == 1999:    # print every 2000 mini-batches\n",
    "#             print(outputs,labels)\n",
    "    tr_loss.append(running_loss)\n",
    "    \n",
    "    \n",
    "    \n",
    "    valid_loss = []\n",
    "    curr_loss=0\n",
    "    model.eval()     # Optional when not using Model Specif\n",
    "    answers=[]\n",
    "    for data, labels in test_dataloader:\n",
    "#         print(labels)\n",
    "#         data, labels = data.cuda(), labels.cuda()\n",
    "        \n",
    "        target = model(data)\n",
    "        target=target.flatten()\n",
    "#         print(target.detach().numpy())\n",
    "        answers.extend(list(target.detach().numpy()))\n",
    "        loss = criterion(target,labels)\n",
    "        curr_loss+=loss.item()\n",
    "    v_loss.append(curr_loss) \n",
    "    \n",
    "    print(f'({epoch}) train loss: {round(running_loss,6)} val loss:{round(curr_loss,6)}')\n",
    "    \n",
    "    \n",
    "#             running_loss = 0.0\n",
    "\n",
    "print('Finished Training')"
   ]
  },
  {
   "cell_type": "code",
   "execution_count": 51,
   "id": "c7891624-050c-49ae-8feb-9e9506867244",
   "metadata": {},
   "outputs": [
    {
     "data": {
      "text/plain": [
       "PriceLSTM(\n",
       "  (lstm): LSTM(1, 4, batch_first=True)\n",
       "  (regressor_1): Linear(in_features=4, out_features=4, bias=True)\n",
       "  (regressor_2): Linear(in_features=4, out_features=1, bias=True)\n",
       ")"
      ]
     },
     "execution_count": 51,
     "metadata": {},
     "output_type": "execute_result"
    }
   ],
   "source": [
    "model"
   ]
  },
  {
   "cell_type": "code",
   "execution_count": 52,
   "id": "c8b3903e-08c8-47cd-a65d-555cba17cda5",
   "metadata": {},
   "outputs": [
    {
     "data": {
      "text/plain": [
       "[<matplotlib.lines.Line2D at 0x7ffa151b7a90>]"
      ]
     },
     "execution_count": 52,
     "metadata": {},
     "output_type": "execute_result"
    },
    {
     "data": {
      "image/png": "[encoded data removed]",
      "text/plain": [
       "<Figure size 842.4x595.44 with 1 Axes>"
      ]
     },
     "metadata": {
      "needs_background": "light"
     },
     "output_type": "display_data"
    }
   ],
   "source": [
    "plt.plot(tr_loss)\n",
    "plt.plot(v_loss)"
   ]
  },
  {
   "cell_type": "code",
   "execution_count": 53,
   "id": "a3189e14-40ab-4d9e-9cdd-01ea99a4726f",
   "metadata": {},
   "outputs": [],
   "source": [
    "def get_martingal_predictions_from_prices(prices,n_points=10):\n",
    "    predictions = [prices[i+n_points] for i in range(len(prices)-n_points)]\n",
    "    return predictions"
   ]
  },
  {
   "cell_type": "code",
   "execution_count": 54,
   "id": "c8a58d52-18c2-4d6c-91ae-bb2796d5438c",
   "metadata": {},
   "outputs": [],
   "source": [
    "test_dataloader=DataLoader(test_dataset,sampler=seq_sampler,batch_size=1)"
   ]
  },
  {
   "cell_type": "code",
   "execution_count": 55,
   "id": "a453dd6f-d173-460c-87d9-0d67b6af97f8",
   "metadata": {},
   "outputs": [],
   "source": [
    "y_test=[]\n",
    "for x,y, in test_dataloader:\n",
    "    \n",
    "    y_test.append(y.numpy()[0])"
   ]
  },
  {
   "cell_type": "code",
   "execution_count": 56,
   "id": "948b5e12-30a7-4cb5-8a0d-d13dabd7d15c",
   "metadata": {},
   "outputs": [],
   "source": [
    "martingal_data=get_martingal_predictions_from_prices(test_data)"
   ]
  },
  {
   "cell_type": "code",
   "execution_count": 57,
   "id": "8830f86c-4d0f-4024-8aa6-d7246bc98c26",
   "metadata": {},
   "outputs": [],
   "source": [
    "answers = list(map(lambda x:x,answers))"
   ]
  },
  {
   "cell_type": "code",
   "execution_count": 58,
   "id": "80b553d9-872b-4135-bbca-eb7d8a2e58d6",
   "metadata": {},
   "outputs": [
    {
     "name": "stdout",
     "output_type": "stream",
     "text": [
      "Model MAPE: 0.306109070777893066406250000000\n",
      "Random Walk MAPE: 0.000000000000000000000000000000\n"
     ]
    }
   ],
   "source": [
    "print('Model MAPE:','{0:.30f}'.format(mean_absolute_percentage_error(y_test,answers)))\n",
    "print('Random Walk MAPE:','{0:.30f}'.format(mean_absolute_percentage_error(y_test,martingal_data)))\n"
   ]
  },
  {
   "cell_type": "markdown",
   "id": "2704476b-9638-481b-85cd-886bdd15cf13",
   "metadata": {},
   "source": [
    "Результат также неудовлетворительный\n",
    "\n",
    "# Предлагается использовать в дальнейшем либо momentum trading либо нужно больше данных (сырые трейды или свечи) для RL стратегий. Также возможно применение фильтра Каллмана"
   ]
  },
  {
   "cell_type": "code",
   "execution_count": null,
   "id": "8be1cbdd-8488-4566-ac5b-966f619063e8",
   "metadata": {},
   "outputs": [],
   "source": []
  }
 ],
 "metadata": {
  "kernelspec": {
   "display_name": "Python 3",
   "language": "python",
   "name": "python3"
  },
  "language_info": {
   "codemirror_mode": {
    "name": "ipython",
    "version": 3
   },
   "file_extension": ".py",
   "mimetype": "text/x-python",
   "name": "python",
   "nbconvert_exporter": "python",
   "pygments_lexer": "ipython3",
   "version": "3.8.8"
  }
 },
 "nbformat": 4,
 "nbformat_minor": 5
}
